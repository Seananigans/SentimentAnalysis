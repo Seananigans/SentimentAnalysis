{
 "cells": [
  {
   "cell_type": "code",
   "execution_count": 3,
   "metadata": {
    "collapsed": false
   },
   "outputs": [],
   "source": [
    "import urllib2\n",
    "from urllib2 import urlopen\n",
    "import re\n",
    "import cookielib\n",
    "from cookielib import CookieJar\n",
    "import time"
   ]
  },
  {
   "cell_type": "code",
   "execution_count": 6,
   "metadata": {
    "collapsed": false
   },
   "outputs": [],
   "source": [
    "cj = CookieJar()\n",
    "opener = urllib2.build_opener(urllib2.HTTPCookieProcessor(cj))\n",
    "opener.addheaders = [(\"User-agent\",\"Mozilla/5.0\")]"
   ]
  },
  {
   "cell_type": "code",
   "execution_count": 32,
   "metadata": {
    "collapsed": true
   },
   "outputs": [],
   "source": [
    "def main():\n",
    "    try:\n",
    "        page = 'http://www.huffingtonpost.com/feeds/index.xml'\n",
    "        source_code = opener.open(page).read()\n",
    "        try:\n",
    "            titles = re.findall(r\"<title>(.*?)</title>\", source_code)\n",
    "            for title in titles: \n",
    "                print title\n",
    "#             links = re.findall(r'<link.*?href=\"(.*?)', source_code)\n",
    "            links = re.findall(r'<link>(.*?)</link>', source_code)\n",
    "            for link in links: \n",
    "                print link\n",
    "                link_source = opener.open('http://'+link).read()\n",
    "                content = re.findall(r\"<p>(.*?)</p>\")\n",
    "                print content\n",
    "            \n",
    "        except Exception, e:\n",
    "            print str(e)\n",
    "    except Exception, e:\n",
    "        print str(e)"
   ]
  },
  {
   "cell_type": "code",
   "execution_count": 33,
   "metadata": {
    "collapsed": false
   },
   "outputs": [
    {
     "name": "stdout",
     "output_type": "stream",
     "text": [
      "The Huffington Post | The Full Feed\n",
      "<![CDATA[10 Reasons Why Orlando was Homegrown Monster]]>\n",
      "<![CDATA[China's GBD Public Diplomatic & Cultural Exchange Center Gifts Castro Portrait to Cuba]]>\n",
      "<![CDATA[Marketing: An Essential Skill for Effective Social Entrepreneurship]]>\n",
      "<![CDATA[Clinical Trials: an Odyssey]]>\n",
      "<![CDATA[Story Behind the Picture:  Priests at the Church of the Holy Sepulchre]]>\n",
      "<![CDATA[Donald Trump Would Wreck The U.S. Economy]]>\n",
      "<![CDATA[Trump, Over-Exposed]]>\n",
      "<![CDATA[Feisty French Bulldog Can't Walk, But He's As Playful As Any Puppy]]>\n",
      "<![CDATA[Warriors Face Off With Cavaliers In All-Or-Nothing Game 7]]>\n",
      "<![CDATA[WHERE IS THE WORLD'S FIRST MAINSTREAM TRANSGENDER SUPERHERO?]]>\n",
      "<![CDATA[The Lethal Cost of Mental Health Stigma]]>\n",
      "<![CDATA[Lest This Week's Other Shootings Don't Get Overlooked...]]>\n",
      "<![CDATA[Trumps Of The World]]>\n",
      "<![CDATA[Moving Beyond Illegal Immigration: Settlers, Latinxs And Imagined Illegality]]>\n",
      "<![CDATA[Must-Haves For Photographers This Summer]]>\n",
      "www.huffingtonpost.com\n",
      "unknown url type: www.huffingtonpost.com\n"
     ]
    }
   ],
   "source": [
    "main()"
   ]
  },
  {
   "cell_type": "code",
   "execution_count": null,
   "metadata": {
    "collapsed": true
   },
   "outputs": [],
   "source": []
  }
 ],
 "metadata": {
  "kernelspec": {
   "display_name": "Python 2",
   "language": "python",
   "name": "python2"
  },
  "language_info": {
   "codemirror_mode": {
    "name": "ipython",
    "version": 2
   },
   "file_extension": ".py",
   "mimetype": "text/x-python",
   "name": "python",
   "nbconvert_exporter": "python",
   "pygments_lexer": "ipython2",
   "version": "2.7.9"
  }
 },
 "nbformat": 4,
 "nbformat_minor": 0
}
