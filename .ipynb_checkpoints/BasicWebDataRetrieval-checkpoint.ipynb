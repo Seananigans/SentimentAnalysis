{
 "cells": [
  {
   "cell_type": "code",
   "execution_count": 1,
   "metadata": {
    "collapsed": true
   },
   "outputs": [],
   "source": [
    "import time\n",
    "import urllib2\n",
    "from urllib2 import urlopen\n",
    "import datetime\n",
    "import re\n",
    "from __future__ import division\n",
    "from cookielib import CookieJar"
   ]
  },
  {
   "cell_type": "code",
   "execution_count": 6,
   "metadata": {
    "collapsed": true
   },
   "outputs": [],
   "source": [
    "website = 'http://www.ibtimes.co.uk/eu-referendum-gove-corbyn-clash-immigration-brexit-vote-approaches-1566279'\n",
    "top_split = \"<article>\"\n",
    "bottom_split = \"</article>\"\n",
    "cj = CookieJar()\n",
    "opener = urllib2.build_opener(urllib2.HTTPCookieProcessor(cj))\n",
    "opener.addheaders = [(\"User-agent\",\"Mozilla/5.0\")]"
   ]
  },
  {
   "cell_type": "code",
   "execution_count": 7,
   "metadata": {
    "collapsed": false
   },
   "outputs": [],
   "source": [
    "def main():\n",
    "    try:\n",
    "        source_code = opener.open(website).read()\n",
    "        source_code_split = source_code.split(top_split)[1].split(bottom_split)[0]\n",
    "        content = source_code_split.split(\"\\n\")\n",
    "        print [line for line in content if \"<p>\" in line and \"EU\" in line]\n",
    "    except Exception, e:\n",
    "        print str(e)"
   ]
  },
  {
   "cell_type": "code",
   "execution_count": 8,
   "metadata": {
    "collapsed": false
   },
   "outputs": [
    {
     "name": "stdout",
     "output_type": "stream",
     "text": [
      "['<p>Michael Gove, the UK justice secretary and firm \\'Leave\\' campaigner, has said that exiting the European Union (EU) in the upcoming referendum would be \"an affirmation of faith and hope in Britain\" but also admitted that risks are posed whatever the outcome.</p><p>\"I want to be absolutely clear and direct \\xe2\\x80\\x93 whether we vote to leave or remain there are risks to our future, there are challenges to our global economy,\" he said during <a', 'class=\"bullet\"></span> EU Referendum: Nigel Farage\\'s \\'Nazi propaganda\\' anti-migration poster reported to police</a></li></ul></aside><p>\"My view is that those challenges will be easier to meet, those risks will be less if we vote to leave because we will have control over the economic levers. We will have control over the money we send to the European Union, we will have control over our own laws and as a result we will be able to deal with whatever the world throws at us because the people who are making decisions on our behalf are emotionally invested in our future.\"</p><p>Refusing to call the decision to leave a \"gamble\" when pressed by Marr, Gove said it would simply be an \"affirmation of faith and hope\" in Britain. He said: \"I think that Britain would be taking its place alongside countries like Australia, Canada, New Zealand and America as a self-governing democracy.\"</p><p>On immigration, which has become one of the central arguments put forward by Leave campaigners \\xe2\\x80\\x93 who argue it is out of control \\xe2\\x80\\x93 Gove said: I am pro-immigration but I believe the way we secure public support for the continued benefits that migrations brings, and the way in which we secure public support for helping refugees in need, is if people feel they can control the numbers [of people] coming here.\"</p><p>Gove refuted the accusations that, should the UK public vote to leave the EU, current prime minister would become a \"hostage PM\". The justice secretary, lauding the past achievements of Cameron, called him \"a democrat and a patriot.\"</p><p>Labour leader Jeremy Corbyn, who also appeared on Marr\\'s couch, said that he was a \"pro-immigration\" politician and asserted that \"the far-right had been allowed to grasp the agenda.\"</p><p>He said: \"We have had several years of endless newspaper headlines blaming everything on migration without being prepared to look at the reality of the situation.</p><p>\"The reality is more than two million people British people live in Europe and quite a lot of people from the European Union, mainly from Poland, have made their homes in Britain. They are working and paying taxes. The issues surely have to be improve working conditions and improve protections all across Europe and look at those who are making a great deal of money out of exploitation.\"</p>', 'class=\"credit\" itemprop=\"copyrightHolder\">Christopher Furlong/ Getty Images</span></figcaption></figure><p>Corbyn called for the reintroduction of the Migrant Impact Fund to help local authorities cope with the influx of immigrants. He said it \"brings people together to achieve a better society for all.\" However, the Labour Party leader admitted there could be no upper limit to immigration in the current EU setup.</p><h3>No upper limit on immigration</h3><p>\"I don\\'t think you can have one while you have free movement of labour and I think that means you have to balance the economies so you have to improve living standards and conditions,\" he said.</p><p>However, he asserted that the failures to control the level of immigration is not the main issue. He said: \"It\\'s a failure of our government to properly fund local authorities, it\\'s a failure of our government to provide housing for people, failure of our government that for the first time in 20 or 30 years that they are attacking school budgets, it\\'s that that is the problem and [the public] should turn their anger against this government.\"</p><p>He added: \"People should think very carefully about the direction we are going.\"</p><p>Meanwhile, writing in <a', 'title=\"An abject, self-imposed humiliation awaits if this proud, important country walks away\" href=\"http://www.telegraph.co.uk/opinion/2016/06/18/an-abject-self-imposed-humiliation-awaits-if-this-proud-importan/\" rel=\"nofollow\" target=\"_blank\">The Daily Telegraph</a>, Prime Minister David Cameron issued a fresh warning about the consequences should the UK public vote to leave the EU on 23 June.</p><p>\"Here\\'s the thing: it\\'s irreversible. There is no turning back if we leave,\" he said. \"If we choose to go out of the EU, we will go out \\xe2\\x80\\x93 with all of the consequences that will have for everyone in Britain. And if we were to leave and it quickly turned out to be a big mistake, there wouldn\\'t be a way of changing our minds and having another go. This is it.\"</p><p>He continued: Whether it\\'s the UN, NATO or the European Union, we have a seat where it really matters. When we want to effect change in the world \\xe2\\x80\\x93 whether to advance our national interest, protect the security of our people or alleviate suffering in the world \\xe2\\x80\\x93 the levers we reach for are invariably found within these organisations.</p><p>\"If we leave the EU, it will still be a very important forum for sorting out the biggest problems that affect Britain. The difference is: we just wouldn\\'t be there.\"</p><p>Speaking on ITV directly after Gove\\'s BBC appearance, Chancellor George Osborne said that leaving the EU would \"plunge ourselves into economic uncertainties.\"</p><p>He said the central estimate was that UK GDP would be 5-6% smaller if the UK votes to leave but added \"it could be quite a lot worse than that\". He said: \"People are not buying houses and not buying cars. It\\'s a sign of things to come.\"</p>                           ']\n"
     ]
    }
   ],
   "source": [
    "main()"
   ]
  },
  {
   "cell_type": "code",
   "execution_count": null,
   "metadata": {
    "collapsed": true
   },
   "outputs": [],
   "source": [
    " "
   ]
  }
 ],
 "metadata": {
  "kernelspec": {
   "display_name": "Python 2",
   "language": "python",
   "name": "python2"
  },
  "language_info": {
   "codemirror_mode": {
    "name": "ipython",
    "version": 2
   },
   "file_extension": ".py",
   "mimetype": "text/x-python",
   "name": "python",
   "nbconvert_exporter": "python",
   "pygments_lexer": "ipython2",
   "version": "2.7.9"
  }
 },
 "nbformat": 4,
 "nbformat_minor": 0
}
